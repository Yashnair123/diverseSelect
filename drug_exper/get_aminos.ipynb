{
 "cells": [
  {
   "cell_type": "code",
   "execution_count": 6,
   "metadata": {},
   "outputs": [
    {
     "name": "stderr",
     "output_type": "stream",
     "text": [
      "100%|██████████| 7770/7770 [3:51:16<00:00,  1.79s/it]  \n"
     ]
    }
   ],
   "source": [
    "import pandas as pd\n",
    "from Bio import SeqIO\n",
    "from urllib.request import urlopen\n",
    "from tqdm import tqdm\n",
    "\n",
    "tqdm.pandas()\n",
    "\n",
    "def get_aac(uid):\n",
    "    url = f\"https://www.uniprot.org/uniprot/{uid}.fasta\"\n",
    "    with urlopen(url) as response:\n",
    "        fasta = response.read().decode(\"utf-8\")\n",
    "        sequence = \"\".join(fasta.split(\"\\n\")[1:])\n",
    "    return sequence\n",
    "\n",
    "df = pd.read_csv('GtP_to_UniProt_mapping.csv', skiprows=1)\n",
    "df['AAC'] = df.progress_apply(lambda row: get_aac(row['UniProtKB ID']), axis=1)"
   ]
  },
  {
   "cell_type": "code",
   "execution_count": 8,
   "metadata": {},
   "outputs": [],
   "source": [
    "df.to_csv('GtP_to_AAC_mapping.csv')"
   ]
  }
 ],
 "metadata": {
  "kernelspec": {
   "display_name": "cfselect",
   "language": "python",
   "name": "python3"
  },
  "language_info": {
   "codemirror_mode": {
    "name": "ipython",
    "version": 3
   },
   "file_extension": ".py",
   "mimetype": "text/x-python",
   "name": "python",
   "nbconvert_exporter": "python",
   "pygments_lexer": "ipython3",
   "version": "3.10.0"
  }
 },
 "nbformat": 4,
 "nbformat_minor": 2
}
